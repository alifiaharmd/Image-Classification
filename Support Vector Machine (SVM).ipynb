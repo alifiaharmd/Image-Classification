{
 "cells": [
  {
   "cell_type": "markdown",
   "metadata": {
    "colab_type": "text",
    "id": "g5tPNtzi3rcK"
   },
   "source": [
    "Part of Assignment from 42028 Deep Learning and Convolutional Neural Network\n",
    "\n",
    "\n",
    "## Support Vector Machine (SVM) Classification"
   ]
  },
  {
   "cell_type": "markdown",
   "metadata": {
    "colab_type": "text",
    "id": "qYHw0VN33rpl"
   },
   "source": [
    "### Connect to Google Drive"
   ]
  },
  {
   "cell_type": "code",
   "execution_count": 1,
   "metadata": {
    "colab": {
     "base_uri": "https://localhost:8080/",
     "height": 121
    },
    "colab_type": "code",
    "executionInfo": {
     "elapsed": 73012,
     "status": "ok",
     "timestamp": 1587195705260,
     "user": {
      "displayName": "Alifia Cesarina Harmadi",
      "photoUrl": "",
      "userId": "00710599022801911658"
     },
     "user_tz": -600
    },
    "id": "ACQhvQGo7Cfw",
    "outputId": "8912b226-c7d7-47e5-ebf4-345dd3dbb5fc"
   },
   "outputs": [
    {
     "name": "stdout",
     "output_type": "stream",
     "text": [
      "Go to this URL in a browser: https://accounts.google.com/o/oauth2/auth?client_id=947318989803-6bn6qk8qdgf4n4g3pfee6491hc0brc4i.apps.googleusercontent.com&redirect_uri=urn%3aietf%3awg%3aoauth%3a2.0%3aoob&response_type=code&scope=email%20https%3a%2f%2fwww.googleapis.com%2fauth%2fdocs.test%20https%3a%2f%2fwww.googleapis.com%2fauth%2fdrive%20https%3a%2f%2fwww.googleapis.com%2fauth%2fdrive.photos.readonly%20https%3a%2f%2fwww.googleapis.com%2fauth%2fpeopleapi.readonly\n",
      "\n",
      "Enter your authorization code:\n",
      "··········\n",
      "Mounted at /content/gdrive\n"
     ]
    }
   ],
   "source": [
    "from google.colab import drive\n",
    "drive.mount('/content/gdrive')"
   ]
  },
  {
   "cell_type": "markdown",
   "metadata": {
    "colab_type": "text",
    "id": "BayNHnha8HcH"
   },
   "source": [
    "### Change the directory to access the MNIST Dataset\n",
    "***Note: This code might require changes***"
   ]
  },
  {
   "cell_type": "code",
   "execution_count": 2,
   "metadata": {
    "colab": {
     "base_uri": "https://localhost:8080/",
     "height": 34
    },
    "colab_type": "code",
    "executionInfo": {
     "elapsed": 72997,
     "status": "ok",
     "timestamp": 1587195705263,
     "user": {
      "displayName": "Alifia Cesarina Harmadi",
      "photoUrl": "",
      "userId": "00710599022801911658"
     },
     "user_tz": -600
    },
    "id": "hzejJCYG7E3r",
    "outputId": "52190fdf-bb22-4fcf-e268-d5611c5a4794"
   },
   "outputs": [
    {
     "name": "stdout",
     "output_type": "stream",
     "text": [
      "/content/gdrive/My Drive/Assignment-1\n"
     ]
    }
   ],
   "source": [
    "cd /content/gdrive/My Drive/Assignment-1"
   ]
  },
  {
   "cell_type": "markdown",
   "metadata": {
    "colab_type": "text",
    "id": "GtSmyi-087jf"
   },
   "source": [
    "### Import the packages"
   ]
  },
  {
   "cell_type": "code",
   "execution_count": 3,
   "metadata": {
    "colab": {
     "base_uri": "https://localhost:8080/",
     "height": 70
    },
    "colab_type": "code",
    "executionInfo": {
     "elapsed": 74958,
     "status": "ok",
     "timestamp": 1587195707239,
     "user": {
      "displayName": "Alifia Cesarina Harmadi",
      "photoUrl": "",
      "userId": "00710599022801911658"
     },
     "user_tz": -600
    },
    "id": "Rx4423tk808p",
    "outputId": "a6bbc806-9b0e-41ac-bc95-f2e177311b34"
   },
   "outputs": [
    {
     "name": "stderr",
     "output_type": "stream",
     "text": [
      "/usr/local/lib/python3.6/dist-packages/statsmodels/tools/_testing.py:19: FutureWarning: pandas.util.testing is deprecated. Use the functions in the public API at pandas.testing instead.\n",
      "  import pandas.util.testing as tm\n"
     ]
    }
   ],
   "source": [
    "import numpy as np\n",
    "import matplotlib.pyplot as plt\n",
    "from sklearn.neighbors import KNeighborsClassifier\n",
    "from skimage import feature\n",
    "from sklearn import svm\n",
    "from sklearn import metrics\n",
    "%matplotlib inline\n",
    "import cv2\n",
    "import seaborn as sns "
   ]
  },
  {
   "cell_type": "markdown",
   "metadata": {
    "colab_type": "text",
    "id": "SEESa4ji-M2G"
   },
   "source": [
    "### Dataset preparation\n",
    "Load the dataset"
   ]
  },
  {
   "cell_type": "code",
   "execution_count": 0,
   "metadata": {
    "colab": {},
    "colab_type": "code",
    "id": "aLoGlqt89_qC"
   },
   "outputs": [],
   "source": [
    "def load_mnist(path, kind='train'):\n",
    "    import os\n",
    "    import gzip\n",
    "    import numpy as np\n",
    "\n",
    "    \"\"\"Load MNIST data from `path`\"\"\"\n",
    "    labels_path = os.path.join(path,\n",
    "                               '%s-labels-idx1-ubyte.gz'\n",
    "                               % kind)\n",
    "    images_path = os.path.join(path,\n",
    "                               '%s-images-idx3-ubyte.gz'\n",
    "                               % kind)\n",
    "\n",
    "    with gzip.open(labels_path, 'rb') as lbpath:\n",
    "        labels = np.frombuffer(lbpath.read(), dtype=np.uint8,\n",
    "                               offset=8)\n",
    "\n",
    "    with gzip.open(images_path, 'rb') as imgpath:\n",
    "        images = np.frombuffer(imgpath.read(), dtype=np.uint8,\n",
    "                               offset=16).reshape(len(labels), 784)\n",
    "\n",
    "    return images, labels"
   ]
  },
  {
   "cell_type": "code",
   "execution_count": 5,
   "metadata": {
    "colab": {
     "base_uri": "https://localhost:8080/",
     "height": 34
    },
    "colab_type": "code",
    "executionInfo": {
     "elapsed": 76564,
     "status": "ok",
     "timestamp": 1587195708864,
     "user": {
      "displayName": "Alifia Cesarina Harmadi",
      "photoUrl": "",
      "userId": "00710599022801911658"
     },
     "user_tz": -600
    },
    "id": "vZ6XyBAI-giK",
    "outputId": "83bd6269-9b54-420f-ed1f-868917d375c7"
   },
   "outputs": [
    {
     "name": "stdout",
     "output_type": "stream",
     "text": [
      "MNIST data loaded\n"
     ]
    }
   ],
   "source": [
    "X_train, y_train = load_mnist('/content/gdrive/My Drive/Assignment-1', kind='train')\n",
    "X_test, y_test = load_mnist('/content/gdrive/My Drive/Assignment-1', kind='t10k')\n",
    "\n",
    "print(\"MNIST data loaded\")"
   ]
  },
  {
   "cell_type": "markdown",
   "metadata": {
    "colab_type": "text",
    "id": "zEeW5yOdWnSA"
   },
   "source": [
    "Create  label names for image classification"
   ]
  },
  {
   "cell_type": "code",
   "execution_count": 0,
   "metadata": {
    "colab": {},
    "colab_type": "code",
    "id": "o-hK_LQRWneW"
   },
   "outputs": [],
   "source": [
    "labelNames = [\"0\",\"1\",\"2\",\"3\",\"4\",\"5\",\"6\",\"7\",\"8\",\"9\"]"
   ]
  },
  {
   "cell_type": "markdown",
   "metadata": {
    "colab_type": "text",
    "id": "ujR8bZSs-3C6"
   },
   "source": [
    "Check the dataset size"
   ]
  },
  {
   "cell_type": "code",
   "execution_count": 7,
   "metadata": {
    "colab": {
     "base_uri": "https://localhost:8080/",
     "height": 50
    },
    "colab_type": "code",
    "executionInfo": {
     "elapsed": 76546,
     "status": "ok",
     "timestamp": 1587195708866,
     "user": {
      "displayName": "Alifia Cesarina Harmadi",
      "photoUrl": "",
      "userId": "00710599022801911658"
     },
     "user_tz": -600
    },
    "id": "_oV8FeFM-vWH",
    "outputId": "0dbbb6c5-90d9-4295-cd6a-db4b149808f0"
   },
   "outputs": [
    {
     "name": "stdout",
     "output_type": "stream",
     "text": [
      "(60000, 784)\n",
      "(10000, 784)\n"
     ]
    }
   ],
   "source": [
    "print(np.shape(X_train))\n",
    "print(np.shape(X_test))"
   ]
  },
  {
   "cell_type": "markdown",
   "metadata": {
    "colab_type": "text",
    "id": "pBQukYsJ_kLs"
   },
   "source": [
    "Reshape the feature vector back into the 28X28 image"
   ]
  },
  {
   "cell_type": "code",
   "execution_count": 8,
   "metadata": {
    "colab": {
     "base_uri": "https://localhost:8080/",
     "height": 50
    },
    "colab_type": "code",
    "executionInfo": {
     "elapsed": 76531,
     "status": "ok",
     "timestamp": 1587195708867,
     "user": {
      "displayName": "Alifia Cesarina Harmadi",
      "photoUrl": "",
      "userId": "00710599022801911658"
     },
     "user_tz": -600
    },
    "id": "a_aqa7bp-_W9",
    "outputId": "41c51d3d-9231-438b-f388-86f01f22b938"
   },
   "outputs": [
    {
     "name": "stdout",
     "output_type": "stream",
     "text": [
      "Train set size after reshaping: (60000, 28, 28)\n",
      "Test set size after reshaping: (10000, 28, 28)\n"
     ]
    }
   ],
   "source": [
    "X_train= X_train.reshape(-1,28,28)\n",
    "X_test= X_test.reshape(-1,28,28)\n",
    "\n",
    "#Data set size after reshaping\n",
    "print(\"Train set size after reshaping: {}\".format(np.shape(X_train)))\n",
    "print(\"Test set size after reshaping: {}\".format(np.shape(X_test)))"
   ]
  },
  {
   "cell_type": "markdown",
   "metadata": {
    "colab_type": "text",
    "id": "iCfy7RQSK3D-"
   },
   "source": [
    "### Display the Dataset\n",
    "\n",
    "Visualise the images and show the corresponding labels"
   ]
  },
  {
   "cell_type": "code",
   "execution_count": 9,
   "metadata": {
    "colab": {
     "base_uri": "https://localhost:8080/",
     "height": 216
    },
    "colab_type": "code",
    "executionInfo": {
     "elapsed": 77004,
     "status": "ok",
     "timestamp": 1587195709355,
     "user": {
      "displayName": "Alifia Cesarina Harmadi",
      "photoUrl": "",
      "userId": "00710599022801911658"
     },
     "user_tz": -600
    },
    "id": "TeJJJJmqK2EZ",
    "outputId": "5092dc69-bb78-471d-8e9c-82481a87412b"
   },
   "outputs": [
    {
     "name": "stdout",
     "output_type": "stream",
     "text": [
      "The corresponding labels:\n",
      "3\n",
      "3\n",
      "The images:\n"
     ]
    },
    {
     "data": {
      "image/png": "[encoded data removed]",
      "text/plain": [
       "<Figure size 432x288 with 2 Axes>"
      ]
     },
     "metadata": {
      "needs_background": "light",
      "tags": []
     },
     "output_type": "display_data"
    }
   ],
   "source": [
    "fig = plt.figure()\n",
    "\n",
    "ax1 = fig.add_subplot(2,2,1)\n",
    "ax2 = fig.add_subplot(2,2,2)\n",
    "img_index_1 = 30000\n",
    "img_index_2 = 45000\n",
    "\n",
    "print('The corresponding labels:')\n",
    "ax1.imshow(X_train[img_index_1])\n",
    "ax2.imshow(X_train[img_index_2])\n",
    "print(labelNames[y_train[img_index_1]])\n",
    "print(labelNames[y_train[img_index_2]])\n",
    "print('The images:')"
   ]
  },
  {
   "cell_type": "markdown",
   "metadata": {
    "colab_type": "text",
    "id": "PLG_7tl7MYFh"
   },
   "source": [
    "### Histogram of Oriented Gradient (HOG) feature extraction"
   ]
  },
  {
   "cell_type": "code",
   "execution_count": 10,
   "metadata": {
    "colab": {
     "base_uri": "https://localhost:8080/",
     "height": 67
    },
    "colab_type": "code",
    "executionInfo": {
     "elapsed": 90038,
     "status": "ok",
     "timestamp": 1587195722405,
     "user": {
      "displayName": "Alifia Cesarina Harmadi",
      "photoUrl": "",
      "userId": "00710599022801911658"
     },
     "user_tz": -600
    },
    "id": "ktpzeLxEMq7n",
    "outputId": "e7176772-479d-4e91-bd66-ecbf57c4fa8d"
   },
   "outputs": [
    {
     "name": "stdout",
     "output_type": "stream",
     "text": [
      "Extracting features from training dataset...\n",
      "(60000, 40)\n",
      "(60000,)\n"
     ]
    }
   ],
   "source": [
    "print(\"Extracting features from training dataset...\")\n",
    "\n",
    "#create two empty arrays to hold the images and coresponding labels\n",
    "#after feature extraction\n",
    "HOGimages_train = []\n",
    "HOGlabels_train = []\n",
    "\n",
    "#loop over the training images\n",
    "for HOG_img_index in range(len(X_train)):\n",
    "  #load the image\n",
    "  HOG_image = (X_train[HOG_img_index])\n",
    "\n",
    "  #extraction with hog feature\n",
    "  HOG = feature.hog(HOG_image, orientations= 10, pixels_per_cell=(13,13), \n",
    "                    cells_per_block=(2,2), transform_sqrt=True, \n",
    "                    block_norm=\"L2-Hys\")\n",
    " \n",
    "  #add the images to array\n",
    "  HOGimages_train.append(HOG)\n",
    "  #extract the label from the image path and add labels to array\n",
    "  HOGlabels_train.append(y_train[HOG_img_index])\n",
    "\n",
    "#print the shape\n",
    "print(np.shape(HOGimages_train))\n",
    "print(np.shape(HOGlabels_train))"
   ]
  },
  {
   "cell_type": "markdown",
   "metadata": {
    "colab_type": "text",
    "id": "FWTpPJQzCXzb"
   },
   "source": [
    "### Local Binary Patterns (LBP) feature extraction\n",
    "\n",
    "create class definition for LBP"
   ]
  },
  {
   "cell_type": "code",
   "execution_count": 0,
   "metadata": {
    "colab": {},
    "colab_type": "code",
    "id": "f0wkWohZCZVS"
   },
   "outputs": [],
   "source": [
    "class LocalBinaryPatterns:\n",
    "  #create a constructor with two values, numPoint as thresholding and radius\n",
    "\tdef __init__(self, numPoints, radius):\n",
    "\t\tself.numPoints = numPoints\n",
    "\t\tself.radius = radius\n",
    "  \n",
    "  #create a LBP function\n",
    "\tdef LBPfeatures(self, image, eps=1e-7):\n",
    "\t\tlbp = feature.local_binary_pattern(image, self.numPoints, self.radius, \n",
    "                                     method=\"uniform\")\n",
    "  \n",
    "    #convert LBP feature into the histogram\n",
    "\t\t(hist, _) = np.histogram(lbp.ravel(),bins=np.arange(0, self.numPoints + 3),\n",
    "                           range=(0, self.numPoints + 2))\n",
    " \n",
    "\t\t#normalize the histogram\n",
    "\t\thist = hist.astype(\"float\")\n",
    "\t\thist /= (hist.sum() + eps)\n",
    " \n",
    "\t\t#return the LBP histogram\n",
    "\t\treturn hist"
   ]
  },
  {
   "cell_type": "markdown",
   "metadata": {
    "colab_type": "text",
    "id": "yNWj5Gwp-8zD"
   },
   "source": [
    "Extract the training data set with LBP feature"
   ]
  },
  {
   "cell_type": "code",
   "execution_count": 0,
   "metadata": {
    "colab": {},
    "colab_type": "code",
    "id": "52_8ufra-87u"
   },
   "outputs": [],
   "source": [
    "#create an instance to access the function in LocalBinaryPatterns class\n",
    "desc = LocalBinaryPatterns(24, 4)\n",
    "\n",
    "#create two empty arrays to hold the images and coresponding labels\n",
    "#after feature extraction\n",
    "LBPdata_train = []\n",
    "LBPlabels_train = []\n",
    "\n",
    "#loop over the training images\n",
    "for LBP_img_index in range(len(X_train)):\n",
    "  #load the image\n",
    "  LBP_image = (X_train[LBP_img_index])\n",
    "\n",
    "  #extraction with LBP features\n",
    "  hist = desc.LBPfeatures(LBP_image)\n",
    " \n",
    "  #add the images to array\n",
    "  LBPdata_train.append(hist)\n",
    "\t#extract the label from the image path and add labels to array\n",
    "  LBPlabels_train.append(y_train[LBP_img_index])"
   ]
  },
  {
   "cell_type": "code",
   "execution_count": 13,
   "metadata": {
    "colab": {
     "base_uri": "https://localhost:8080/",
     "height": 50
    },
    "colab_type": "code",
    "executionInfo": {
     "elapsed": 122352,
     "status": "ok",
     "timestamp": 1587195754739,
     "user": {
      "displayName": "Alifia Cesarina Harmadi",
      "photoUrl": "",
      "userId": "00710599022801911658"
     },
     "user_tz": -600
    },
    "id": "Tn2rTmZm_A5x",
    "outputId": "1ab0fd61-f752-4219-c0a8-a63e8fd0410d"
   },
   "outputs": [
    {
     "name": "stdout",
     "output_type": "stream",
     "text": [
      "(60000, 26)\n",
      "(60000,)\n"
     ]
    }
   ],
   "source": [
    "print(np.shape(LBPdata_train))\n",
    "print(np.shape(LBPlabels_train))"
   ]
  },
  {
   "cell_type": "markdown",
   "metadata": {
    "colab_type": "text",
    "id": "pLggAB8ylnRP"
   },
   "source": [
    "### Support Vector Machine (SVM) Classification with HOG"
   ]
  },
  {
   "cell_type": "markdown",
   "metadata": {
    "colab_type": "text",
    "id": "G5OETzvv_lNM"
   },
   "source": [
    "Create Support Vector Machine (SVM) model"
   ]
  },
  {
   "cell_type": "code",
   "execution_count": 0,
   "metadata": {
    "colab": {},
    "colab_type": "code",
    "id": "qeccg4ZsllId"
   },
   "outputs": [],
   "source": [
    "SVMmodel = svm.SVC(kernel = 'poly', C=100.00, random_state=50, gamma=0.7, degree=2)"
   ]
  },
  {
   "cell_type": "markdown",
   "metadata": {
    "colab_type": "text",
    "id": "tAOhYHGE_lsG"
   },
   "source": [
    "Fit the model to training dataset\n",
    "\n",
    "***Note: this process might take long time...***\n",
    "\n"
   ]
  },
  {
   "cell_type": "code",
   "execution_count": 15,
   "metadata": {
    "colab": {
     "base_uri": "https://localhost:8080/",
     "height": 84
    },
    "colab_type": "code",
    "executionInfo": {
     "elapsed": 149823,
     "status": "ok",
     "timestamp": 1587195782231,
     "user": {
      "displayName": "Alifia Cesarina Harmadi",
      "photoUrl": "",
      "userId": "00710599022801911658"
     },
     "user_tz": -600
    },
    "id": "xWZR9tBW_EoZ",
    "outputId": "ef74cb30-4502-4f48-a1ef-0e0abaec74f8"
   },
   "outputs": [
    {
     "data": {
      "text/plain": [
       "SVC(C=100.0, break_ties=False, cache_size=200, class_weight=None, coef0=0.0,\n",
       "    decision_function_shape='ovr', degree=2, gamma=0.7, kernel='poly',\n",
       "    max_iter=-1, probability=False, random_state=50, shrinking=True, tol=0.001,\n",
       "    verbose=False)"
      ]
     },
     "execution_count": 15,
     "metadata": {
      "tags": []
     },
     "output_type": "execute_result"
    }
   ],
   "source": [
    "SVMmodel.fit(HOGimages_train, HOGlabels_train)"
   ]
  },
  {
   "cell_type": "markdown",
   "metadata": {
    "colab_type": "text",
    "id": "GeUrQBPl_gdm"
   },
   "source": [
    "Check the training accuracy"
   ]
  },
  {
   "cell_type": "code",
   "execution_count": 16,
   "metadata": {
    "colab": {
     "base_uri": "https://localhost:8080/",
     "height": 34
    },
    "colab_type": "code",
    "executionInfo": {
     "elapsed": 186502,
     "status": "ok",
     "timestamp": 1587195818925,
     "user": {
      "displayName": "Alifia Cesarina Harmadi",
      "photoUrl": "",
      "userId": "00710599022801911658"
     },
     "user_tz": -600
    },
    "id": "vt6s6vVj1CYi",
    "outputId": "cca3d976-bea2-4253-d594-0a8eee0f4aa1"
   },
   "outputs": [
    {
     "name": "stdout",
     "output_type": "stream",
     "text": [
      "Train set Accuracy: 0.9741833333333333\n"
     ]
    }
   ],
   "source": [
    "SVM_train_acc1 = SVMmodel.score(HOGimages_train,HOGlabels_train)\n",
    "print('Train set Accuracy:', SVM_train_acc1)"
   ]
  },
  {
   "cell_type": "markdown",
   "metadata": {
    "colab_type": "text",
    "id": "L99VaZZi_caq"
   },
   "source": [
    "Evaluate the trained KNN model on test dataset\n",
    "\n",
    "***Note: this process might also take long time...***"
   ]
  },
  {
   "cell_type": "code",
   "execution_count": 17,
   "metadata": {
    "colab": {
     "base_uri": "https://localhost:8080/",
     "height": 67
    },
    "colab_type": "code",
    "executionInfo": {
     "elapsed": 196734,
     "status": "ok",
     "timestamp": 1587195829170,
     "user": {
      "displayName": "Alifia Cesarina Harmadi",
      "photoUrl": "",
      "userId": "00710599022801911658"
     },
     "user_tz": -600
    },
    "id": "aQbjzWaY29Q_",
    "outputId": "fbc5d0b7-5d03-438b-c000-bf331fe5e6fe"
   },
   "outputs": [
    {
     "name": "stdout",
     "output_type": "stream",
     "text": [
      "Extracting features from test dataset...\n",
      "(10000,)\n",
      "(10000,)\n"
     ]
    }
   ],
   "source": [
    "print(\"Extracting features from test dataset...\")\n",
    "\n",
    "#create two empty arrays to hold the images and coresponding labels\n",
    "#after classification\n",
    "labels_test = []\n",
    "images_test=[]\n",
    "#create an empty array to hold the prediction data\n",
    "predict_test = []\n",
    "\n",
    "#loop over the test images\n",
    "for imag_index in range(len(X_test)):\n",
    "  #extraction with HOG feature\n",
    "  img=X_test[imag_index]\n",
    "  HOG = feature.hog(img, orientations=10, pixels_per_cell=(13, 13),\n",
    "                  cells_per_block=(2, 2), transform_sqrt=True,\n",
    "                  block_norm=\"L2-Hys\")\n",
    "  \n",
    "  #perfom the classification\n",
    "  y_predicted=SVMmodel.predict(HOG.reshape(1, -1))[0]\n",
    "  predict_test.append(y_predicted)\n",
    "\n",
    "  #Store the classfication result\n",
    "  images_test.append(HOG)\n",
    "  labels_test.append(y_test[imag_index])\n",
    "\n",
    "print(np.shape(predict_test))\n",
    "print(np.shape(labels_test))"
   ]
  },
  {
   "cell_type": "markdown",
   "metadata": {
    "colab_type": "text",
    "id": "6B-DV8Lx_zWz"
   },
   "source": [
    "Check test set Accuracy"
   ]
  },
  {
   "cell_type": "code",
   "execution_count": 18,
   "metadata": {
    "colab": {
     "base_uri": "https://localhost:8080/",
     "height": 34
    },
    "colab_type": "code",
    "executionInfo": {
     "elapsed": 196717,
     "status": "ok",
     "timestamp": 1587195829171,
     "user": {
      "displayName": "Alifia Cesarina Harmadi",
      "photoUrl": "",
      "userId": "00710599022801911658"
     },
     "user_tz": -600
    },
    "id": "vUIn303U4cH6",
    "outputId": "3177368b-d441-41f2-adcc-fa0bd5d3fa48"
   },
   "outputs": [
    {
     "name": "stdout",
     "output_type": "stream",
     "text": [
      "Accuracy on test dataset: 0.9477\n"
     ]
    }
   ],
   "source": [
    "test_accuracy = metrics.accuracy_score(y_test, predict_test )\n",
    "print(\"Accuracy on test dataset:\",test_accuracy)"
   ]
  },
  {
   "cell_type": "markdown",
   "metadata": {
    "colab_type": "text",
    "id": "94-B1eGj_00c"
   },
   "source": [
    "### Confusion matrix\n",
    "Create the confusion matrix using seaborn library"
   ]
  },
  {
   "cell_type": "code",
   "execution_count": 19,
   "metadata": {
    "colab": {
     "base_uri": "https://localhost:8080/",
     "height": 526
    },
    "colab_type": "code",
    "executionInfo": {
     "elapsed": 197680,
     "status": "ok",
     "timestamp": 1587195830148,
     "user": {
      "displayName": "Alifia Cesarina Harmadi",
      "photoUrl": "",
      "userId": "00710599022801911658"
     },
     "user_tz": -600
    },
    "id": "xHKlONzO4n7B",
    "outputId": "eaecfb24-bef5-442a-8abc-b22ea3309d94"
   },
   "outputs": [
    {
     "data": {
      "image/png": "[encoded data removed]",
      "text/plain": [
       "<Figure size 648x648 with 2 Axes>"
      ]
     },
     "metadata": {
      "needs_background": "light",
      "tags": []
     },
     "output_type": "display_data"
    }
   ],
   "source": [
    "#set and plot the confusion matrix\n",
    "cMatrix  = metrics.confusion_matrix(y_test, predict_test)\n",
    "plt.figure(figsize=(9,9))\n",
    "sns.heatmap(cMatrix, annot=True, fmt=\".3f\", linewidths=.5, square = True, \n",
    "            cmap = 'Blues_r');\n",
    "plt.ylabel('Actual label');\n",
    "plt.xlabel('Predicted label');\n",
    "\n",
    "title = 'Accuracy Score: {0}'.format(test_accuracy)\n",
    "plt.title(title, size = 15);"
   ]
  },
  {
   "cell_type": "markdown",
   "metadata": {
    "colab_type": "text",
    "id": "Jh5K7jmuAB9U"
   },
   "source": [
    "### Visualise the classification result\n",
    "\n",
    "Create a variable for label prediction & arrange the visualisation setting"
   ]
  },
  {
   "cell_type": "code",
   "execution_count": 0,
   "metadata": {
    "colab": {},
    "colab_type": "code",
    "id": "8xLBv6VR4z0r"
   },
   "outputs": [],
   "source": [
    "#create two empty arrays to hold the data\n",
    "images = []\n",
    "labels=[]\n",
    "\n",
    "#classify images with the coresponding labels\n",
    "for i in np.random.choice(np.arange(0, len(y_test)), size=(16,)):\n",
    "  test_img = (X_test[i])\n",
    "  HOG1 = feature.hog(test_img, orientations=10, pixels_per_cell=(13, 13),\n",
    "                  cells_per_block=(2, 2), transform_sqrt=True, \n",
    "                   block_norm=\"L2-Hys\")\n",
    "  \n",
    "  prediction = SVMmodel.predict(HOG1.reshape(1, -1))[0]\n",
    "  label = labelNames[prediction]\n",
    "\n",
    "  #add original label data to dataset_label[]\n",
    "  labels.append(labelNames[y_test[i]])\n",
    "\n",
    "  #set the label color, merge the image, and resize the image \n",
    "  color = (255, 255, 0)\n",
    "  test_img = cv2.merge([test_img] * 3)\n",
    "  test_img = cv2.resize(test_img, (96, 96), interpolation=cv2.INTER_LINEAR)\n",
    "\n",
    "  #add the prediction label to image\n",
    "  cv2.putText(test_img, label, (5, 20), cv2.FONT_HERSHEY_SIMPLEX, \n",
    "              0.50, color, 2)\n",
    "  \n",
    "  #store the image data to images[]\n",
    "  images.append(test_img)"
   ]
  },
  {
   "cell_type": "markdown",
   "metadata": {
    "colab_type": "text",
    "id": "IW1Pfhd3AFBt"
   },
   "source": [
    "Display some classification result"
   ]
  },
  {
   "cell_type": "code",
   "execution_count": 21,
   "metadata": {
    "colab": {
     "base_uri": "https://localhost:8080/",
     "height": 370
    },
    "colab_type": "code",
    "executionInfo": {
     "elapsed": 198148,
     "status": "ok",
     "timestamp": 1587195830634,
     "user": {
      "displayName": "Alifia Cesarina Harmadi",
      "photoUrl": "",
      "userId": "00710599022801911658"
     },
     "user_tz": -600
    },
    "id": "6Z3L_RBl49jq",
    "outputId": "127891b3-cf97-49ad-88ad-35ee9913553a"
   },
   "outputs": [
    {
     "name": "stdout",
     "output_type": "stream",
     "text": [
      "The corresponding labels:\n",
      "5\n",
      "7\n",
      "3\n",
      "7\n",
      "The images:\n"
     ]
    },
    {
     "data": {
      "image/png": "[encoded data removed]",
      "text/plain": [
       "<Figure size 432x288 with 4 Axes>"
      ]
     },
     "metadata": {
      "needs_background": "light",
      "tags": []
     },
     "output_type": "display_data"
    }
   ],
   "source": [
    "fig = plt.figure()\n",
    "#plot the image\n",
    "ax1 = fig.add_subplot(2,2,1)\n",
    "ax2 = fig.add_subplot(2,2,2)\n",
    "ax3 = fig.add_subplot(2,2,3)\n",
    "ax4 = fig.add_subplot(2,2,4)\n",
    "\n",
    "#show image\n",
    "ax1.imshow(images[1])\n",
    "ax2.imshow(images[2])\n",
    "ax3.imshow(images[3])\n",
    "ax4.imshow(images[4])\n",
    "\n",
    "#print the labels\n",
    "print('The corresponding labels:')\n",
    "print(labels[1])\n",
    "print(labels[2])\n",
    "print(labels[3])\n",
    "print(labels[4])\n",
    "print('The images:')"
   ]
  },
  {
   "cell_type": "markdown",
   "metadata": {
    "colab_type": "text",
    "id": "ROmmt4znDvJi"
   },
   "source": [
    "###Support Vector Machine (SVM) Classification with LBP"
   ]
  },
  {
   "cell_type": "markdown",
   "metadata": {
    "colab_type": "text",
    "id": "tRbXYKaNAPPU"
   },
   "source": [
    "Create Support Vector Machine (SVM) model"
   ]
  },
  {
   "cell_type": "code",
   "execution_count": 0,
   "metadata": {
    "colab": {},
    "colab_type": "code",
    "id": "go0cIr8zDvoK"
   },
   "outputs": [],
   "source": [
    "SVMmodel1 = svm.SVC(kernel = 'poly', C=100.00, random_state=42)"
   ]
  },
  {
   "cell_type": "markdown",
   "metadata": {
    "colab_type": "text",
    "id": "bBhbaJ7EALrK"
   },
   "source": [
    "Fit the model to training dataset\n",
    "\n",
    "***Note: this process might take long time...***\n",
    "\n"
   ]
  },
  {
   "cell_type": "code",
   "execution_count": 23,
   "metadata": {
    "colab": {
     "base_uri": "https://localhost:8080/",
     "height": 84
    },
    "colab_type": "code",
    "executionInfo": {
     "elapsed": 348213,
     "status": "ok",
     "timestamp": 1587195980721,
     "user": {
      "displayName": "Alifia Cesarina Harmadi",
      "photoUrl": "",
      "userId": "00710599022801911658"
     },
     "user_tz": -600
    },
    "id": "deU5-JdPAViV",
    "outputId": "bb6045c6-c2d3-4660-a380-0f5f01c3774f"
   },
   "outputs": [
    {
     "data": {
      "text/plain": [
       "SVC(C=100.0, break_ties=False, cache_size=200, class_weight=None, coef0=0.0,\n",
       "    decision_function_shape='ovr', degree=3, gamma='scale', kernel='poly',\n",
       "    max_iter=-1, probability=False, random_state=42, shrinking=True, tol=0.001,\n",
       "    verbose=False)"
      ]
     },
     "execution_count": 23,
     "metadata": {
      "tags": []
     },
     "output_type": "execute_result"
    }
   ],
   "source": [
    "SVMmodel1.fit(LBPdata_train, LBPlabels_train)"
   ]
  },
  {
   "cell_type": "markdown",
   "metadata": {
    "colab_type": "text",
    "id": "DuNqNUmwAYpj"
   },
   "source": [
    "Check training accuracy"
   ]
  },
  {
   "cell_type": "code",
   "execution_count": 24,
   "metadata": {
    "colab": {
     "base_uri": "https://localhost:8080/",
     "height": 34
    },
    "colab_type": "code",
    "executionInfo": {
     "elapsed": 476639,
     "status": "ok",
     "timestamp": 1587196109160,
     "user": {
      "displayName": "Alifia Cesarina Harmadi",
      "photoUrl": "",
      "userId": "00710599022801911658"
     },
     "user_tz": -600
    },
    "id": "AxUmOBZjAama",
    "outputId": "bd53e309-db46-43f3-bd05-ecb9dd534274"
   },
   "outputs": [
    {
     "name": "stdout",
     "output_type": "stream",
     "text": [
      "Train set Accuracy: 0.56575\n"
     ]
    }
   ],
   "source": [
    "SVM_train_acc2 = SVMmodel1.score(LBPdata_train,LBPlabels_train)\n",
    "print('Train set Accuracy:', SVM_train_acc2)"
   ]
  },
  {
   "cell_type": "markdown",
   "metadata": {
    "colab_type": "text",
    "id": "pUG2uV3KAoZi"
   },
   "source": [
    "Evaluate the trained KNN model on test dataset\n",
    "\n",
    "***Note: this process might also take long time...***"
   ]
  },
  {
   "cell_type": "code",
   "execution_count": 0,
   "metadata": {
    "colab": {},
    "colab_type": "code",
    "id": "TehPGCcTAsvL"
   },
   "outputs": [],
   "source": [
    "#create two empty arrays to hold the images and coresponding labels\n",
    "#after classification\n",
    "predict_image=[]\n",
    "predict_label=[]\n",
    "\n",
    "# Exract LBP features for each test sample and classify it with the trained SVM classifier\n",
    "for im_index in range(len(X_test)):\n",
    "  images = X_test[im_index]\n",
    "\n",
    "  # Extract LBP feature\n",
    "  histo = desc.LBPfeatures(images)\n",
    "  # Perform classification\n",
    "  predictions = SVMmodel1.predict(histo.reshape(1, -1))\n",
    "  # Store the classfication result\n",
    "  predict_image.append(predictions)\n",
    "  predict_label.append(y_test[im_index])"
   ]
  },
  {
   "cell_type": "markdown",
   "metadata": {
    "colab_type": "text",
    "id": "X7WSTDVbA5CM"
   },
   "source": [
    "Check test accuracy"
   ]
  },
  {
   "cell_type": "code",
   "execution_count": 26,
   "metadata": {
    "colab": {
     "base_uri": "https://localhost:8080/",
     "height": 34
    },
    "colab_type": "code",
    "executionInfo": {
     "elapsed": 507582,
     "status": "ok",
     "timestamp": 1587196140120,
     "user": {
      "displayName": "Alifia Cesarina Harmadi",
      "photoUrl": "",
      "userId": "00710599022801911658"
     },
     "user_tz": -600
    },
    "id": "bTJx_mU6A5Op",
    "outputId": "f00f7f4d-ed88-46d9-a47a-a89a2a295d9d"
   },
   "outputs": [
    {
     "name": "stdout",
     "output_type": "stream",
     "text": [
      "Accuracy on test dataset: 0.5723\n"
     ]
    }
   ],
   "source": [
    "SVM_accuracy = metrics.accuracy_score(y_test, predict_image)\n",
    "print(\"Accuracy on test dataset:\", SVM_accuracy)"
   ]
  },
  {
   "cell_type": "markdown",
   "metadata": {
    "colab_type": "text",
    "id": "W2KJtUYEBA1_"
   },
   "source": [
    "### Confusion matrix\n",
    "Create confusion matrix using seaborn library"
   ]
  },
  {
   "cell_type": "code",
   "execution_count": 27,
   "metadata": {
    "colab": {
     "base_uri": "https://localhost:8080/",
     "height": 526
    },
    "colab_type": "code",
    "executionInfo": {
     "elapsed": 509106,
     "status": "ok",
     "timestamp": 1587196141657,
     "user": {
      "displayName": "Alifia Cesarina Harmadi",
      "photoUrl": "",
      "userId": "00710599022801911658"
     },
     "user_tz": -600
    },
    "id": "80w4Ky6fBKuz",
    "outputId": "ce923a53-4374-426e-f3d9-3e7fa90abb52"
   },
   "outputs": [
    {
     "data": {
      "image/png": "[encoded data removed]",
      "text/plain": [
       "<Figure size 648x648 with 2 Axes>"
      ]
     },
     "metadata": {
      "needs_background": "light",
      "tags": []
     },
     "output_type": "display_data"
    }
   ],
   "source": [
    "#set and plot the confussion matrix\n",
    "Con_Matrix1  = metrics.confusion_matrix(y_test, predict_image)\n",
    "plt.figure(figsize=(9,9))\n",
    "sns.heatmap(Con_Matrix1, annot=True, fmt=\".3f\", linewidths=.5, square = True,\n",
    "            cmap = 'Blues_r');\n",
    "plt.ylabel('Actual label');\n",
    "plt.xlabel('Predicted label');\n",
    "Matrix_Title = 'Accuracy Score: {0}'.format(SVM_accuracy)\n",
    "\n",
    "#plot the confussion matrix\n",
    "plt.title(Matrix_Title, size = 15);"
   ]
  },
  {
   "cell_type": "markdown",
   "metadata": {
    "colab_type": "text",
    "id": "PtvmsBSzBNh0"
   },
   "source": [
    "### Visualise the classification result\n",
    "\n",
    "Create a variable for label prediction & arrange the visualisation setting\n"
   ]
  },
  {
   "cell_type": "code",
   "execution_count": 0,
   "metadata": {
    "colab": {},
    "colab_type": "code",
    "id": "jWXrKxTmBOPA"
   },
   "outputs": [],
   "source": [
    "# Display the some classification result on test samples\n",
    "images1 = []\n",
    "initial_labels=[]\n",
    "\n",
    "# randomly select a few testing fashion items\n",
    "for i in np.random.choice(np.arange(0, len(y_test)), size=(16,)):\n",
    "  #classify images with the coresponding labels\n",
    "  image = X_test[i]\n",
    "  histo1 = desc.LBPfeatures(image)\n",
    "  prediction = SVMmodel1 .predict(histo1.reshape(1, -1))\n",
    "  #store the label prediction result\n",
    "  label = labelNames[prediction[0]]\n",
    "\n",
    "  initial_labels.append(labelNames[y_test[i]])\n",
    "\n",
    "  color = (255, 255, 0)\n",
    "  image = cv2.merge([image] * 3)\n",
    "  image = cv2.resize(image, (96, 96), interpolation=cv2.INTER_LINEAR)\n",
    "  cv2.putText(image, label, (5, 20), cv2.FONT_HERSHEY_SIMPLEX, 0.50, color, 2)\n",
    "  images1.append(image)"
   ]
  },
  {
   "cell_type": "markdown",
   "metadata": {
    "colab_type": "text",
    "id": "EbvPSiEjBQpM"
   },
   "source": [
    "Display some classification result"
   ]
  },
  {
   "cell_type": "code",
   "execution_count": 29,
   "metadata": {
    "colab": {
     "base_uri": "https://localhost:8080/",
     "height": 370
    },
    "colab_type": "code",
    "executionInfo": {
     "elapsed": 509089,
     "status": "ok",
     "timestamp": 1587196141658,
     "user": {
      "displayName": "Alifia Cesarina Harmadi",
      "photoUrl": "",
      "userId": "00710599022801911658"
     },
     "user_tz": -600
    },
    "id": "YNMz9k8GBR_F",
    "outputId": "9ef64b1f-6918-4bba-fd98-f26489ede034"
   },
   "outputs": [
    {
     "name": "stdout",
     "output_type": "stream",
     "text": [
      "The corresponding labels:\n",
      "0\n",
      "3\n",
      "1\n",
      "6\n",
      "The images:\n"
     ]
    },
    {
     "data": {
      "image/png": "[encoded data removed]",
      "text/plain": [
       "<Figure size 432x288 with 4 Axes>"
      ]
     },
     "metadata": {
      "needs_background": "light",
      "tags": []
     },
     "output_type": "display_data"
    }
   ],
   "source": [
    "fig = plt.figure()\n",
    "#plot the image\n",
    "ax1 = fig.add_subplot(2,2,1)\n",
    "ax2 = fig.add_subplot(2,2,2)\n",
    "ax3 = fig.add_subplot(2,2,3)\n",
    "ax4 = fig.add_subplot(2,2,4)\n",
    "\n",
    "#show image\n",
    "ax1.imshow(images1[1])\n",
    "ax2.imshow(images1[2])\n",
    "ax3.imshow(images1[3])\n",
    "ax4.imshow(images1[4])\n",
    "\n",
    "#print the labels\n",
    "print('The corresponding labels:')\n",
    "print(initial_labels[3])\n",
    "print(initial_labels[2])\n",
    "print(initial_labels[1])\n",
    "print(initial_labels[4])\n",
    "print('The images:')"
   ]
  },
  {
   "cell_type": "code",
   "execution_count": 0,
   "metadata": {
    "colab": {},
    "colab_type": "code",
    "id": "n9EYAiZ35AcX"
   },
   "outputs": [],
   "source": []
  }
 ],
 "metadata": {
  "colab": {
   "authorship_tag": "ABX9TyNmskOahWrR7BsM8p4Pg3hk",
   "collapsed_sections": [],
   "name": "Support Vector Machine (SVM).ipynb",
   "provenance": []
  },
  "kernelspec": {
   "display_name": "Python 3",
   "language": "python",
   "name": "python3"
  },
  "language_info": {
   "codemirror_mode": {
    "name": "ipython",
    "version": 3
   },
   "file_extension": ".py",
   "mimetype": "text/x-python",
   "name": "python",
   "nbconvert_exporter": "python",
   "pygments_lexer": "ipython3",
   "version": "3.7.6"
  }
 },
 "nbformat": 4,
 "nbformat_minor": 1
}
